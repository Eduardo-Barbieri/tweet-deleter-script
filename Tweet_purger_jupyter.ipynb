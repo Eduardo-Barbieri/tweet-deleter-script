{
 "cells": [
  {
   "cell_type": "code",
   "execution_count": 1,
   "id": "otherwise-control",
   "metadata": {},
   "outputs": [],
   "source": [
    "import tweepy as tw\n",
    "import os\n",
    "from IPython.core.display import HTML\n",
    "\n",
    "\n",
    "auth = tw.OAuthHandler(consumer_key, consumer_secret)\n",
    "auth.set_access_token(acess_token, Acces_token_secret)\n",
    "\n",
    "api = tw.API(auth)"
   ]
  },
  {
   "cell_type": "code",
   "execution_count": 2,
   "id": "continental-electron",
   "metadata": {},
   "outputs": [],
   "source": [
    "def delete_tweets():\n",
    "    \n",
    "    def get_user_statusses():\n",
    "        user_id = api.me().id\n",
    "        user = api.get_user(user_id)\n",
    "        statuses_count = user.statuses_count \n",
    "        \n",
    "        return(statuses_count,user)\n",
    "        \n",
    "    def deleter(statuses_count, user):\n",
    "        \n",
    "        x = 100\n",
    "        if statuses_count-x<0:\n",
    "            x = statuses_count\n",
    "        \n",
    "        delete = True\n",
    "        \n",
    "        while delete == True:\n",
    "            \n",
    "            \n",
    "            try:\n",
    "                for status in tw.Cursor(api.user_timeline, id=user).items(x):\n",
    "                    api.destroy_status(status.id)\n",
    "                    statuses_count = user.statuses_count\n",
    "\n",
    "                    if statuses_count-x<0:\n",
    "                            x = statuses_count\n",
    "                else: \n",
    "                    delete = False\n",
    "                \n",
    "            #This part of code resets the jupyter kernel and fixed an error that happend when, \n",
    "            #after a certain number of requests, the code crashed.\n",
    "            #PS 01: only works in jupyter notebook;\n",
    "            #PS 02: the error may be due to weak set up;\n",
    "            #PS 03: may not be necessary;\n",
    "            \n",
    "            except tw.TweepError:  \n",
    "                   HTML(\"<script>Jupyter.notebook.kernel.restart()</script>\")\n",
    "\n",
    "        print('Tweets deleted')\n",
    "    \n",
    "    statuses_count , user = get_user_statusses()\n",
    "    deleter(statuses_count,user)"
   ]
  },
  {
   "cell_type": "code",
   "execution_count": 3,
   "id": "pacific-guidance",
   "metadata": {},
   "outputs": [
    {
     "name": "stdout",
     "output_type": "stream",
     "text": [
      "Tweets deleted\n"
     ]
    }
   ],
   "source": [
    "delete_tweets()"
   ]
  }
 ],
 "metadata": {
  "kernelspec": {
   "display_name": "Python 3",
   "language": "python",
   "name": "python3"
  },
  "language_info": {
   "codemirror_mode": {
    "name": "ipython",
    "version": 3
   },
   "file_extension": ".py",
   "mimetype": "text/x-python",
   "name": "python",
   "nbconvert_exporter": "python",
   "pygments_lexer": "ipython3",
   "version": "3.8.5"
  }
 },
 "nbformat": 4,
 "nbformat_minor": 5
}
